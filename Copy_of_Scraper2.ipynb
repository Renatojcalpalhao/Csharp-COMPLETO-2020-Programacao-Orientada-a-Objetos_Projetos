{
  "nbformat": 4,
  "nbformat_minor": 0,
  "metadata": {
    "colab": {
      "provenance": [],
      "authorship_tag": "ABX9TyMIq0fF0/thZSWl0kWgeAdi",
      "include_colab_link": true
    },
    "kernelspec": {
      "name": "python3",
      "display_name": "Python 3"
    },
    "language_info": {
      "name": "python"
    }
  },
  "cells": [
    {
      "cell_type": "markdown",
      "metadata": {
        "id": "view-in-github",
        "colab_type": "text"
      },
      "source": [
        "<a href=\"https://colab.research.google.com/github/Renatojcalpalhao/Csharp-COMPLETO-2020-Programacao-Orientada-a-Objetos_Projetos/blob/master/Copy_of_Scraper2.ipynb\" target=\"_parent\"><img src=\"https://colab.research.google.com/assets/colab-badge.svg\" alt=\"Open In Colab\"/></a>"
      ]
    },
    {
      "cell_type": "code",
      "execution_count": null,
      "metadata": {
        "id": "jfbi5fMXmzKx"
      },
      "outputs": [],
      "source": [
        "#codigo usando o scraper\n",
        "import scrapy\n",
        "\n",
        "class PokemonScrapper(scrapy.Spider):\n",
        "    name = 'pokemon_scrapper'\n",
        "    domain = \"https://pokemondb.net\"\n",
        "\n",
        "    start_urls = [\"https://pokemondb.net/pokedex/all\"]\n",
        "\n",
        "    def parse(self, response):\n",
        "        pokemons = response.css('#pokedex > tbody > tr')\n",
        "\n",
        "        for pokemon in pokemons:\n",
        "            link = pokemon.css(\"td.cell-name > a::attr(href)\").extract_first()\n",
        "            full_link = urljoin(self.domain, link)\n",
        "\n",
        "            yield response.follow(full_link, self.parse_pokemon)\n",
        "\n",
        "    def parse_pokemon(self, response):\n",
        "        # Extraindo as informações principais do Pokémon\n",
        "        pokemon_id = response.css(\n",
        "            '.vitals-table > tbody > tr:nth-child(1) > td > strong::text').get(\n",
        "            )\n",
        "\n",
        "        pokemon_name = response.css('#main > h1::text').get()\n",
        "        pokemon_types = response.css(\n",
        "            '.vitals-table > tbody > tr:nth-child(2) > td > a::text').getall()\n",
        "        pokemon_height = response.css(\n",
        "            '.vitals-table > tbody > tr:nth-child(4) > td::text').get().split(\n",
        "            )[0]\n",
        "        pokemon_weight = response.css(\n",
        "            '.vitals-table > tbody > tr:nth-child(5) > td::text').get().split(\n",
        "            )[0]\n",
        "        # Extraindo as evoluções\n",
        "        evolutions = []\n",
        "        evolution_cards = response.css(\n",
        "            '#main > div.infocard-list-evo > div.infocard')\n",
        "        for card in evolution_cards:\n",
        "            evo_name = card.css(\n",
        "                'span.infocard-lg-data > a.ent-name::text').get()\n",
        "            evo_number = card.css('span.infocard-lg-data > small::text').get()\n",
        "            evo_url = urljoin(self.domain,\n",
        "                              card.css('a.ent-name::attr(href)').get())\n",
        "            evolutions.append({\n",
        "                'number': evo_number,\n",
        "                'name': evo_name,\n",
        "                'url': evo_url\n",
        "            })\n",
        "        # Extraindo as habilidades\n",
        "        abilities = []\n",
        "        ability_links = response.css(\n",
        "            '.vitals-table a[href*=\"/ability/\"]::attr(href)').getall()\n",
        "        for link in ability_links:\n",
        "            full_link = urljoin(self.domain, link)\n",
        "            abilities.append(full_link)\n",
        "        # Armazenando os dados do Pokémon\n",
        "        pokemon_data = {\n",
        "            'pokemon_id': pokemon_id,\n",
        "            'pokemon_name': pokemon_name,\n",
        "            'types': pokemon_types,\n",
        "            'height_cm': pokemon_height,\n",
        "            'weight_kg': pokemon_weight,\n",
        "            'evolutions': evolutions,\n",
        "            'abilities': abilities\n",
        "        }\n",
        "        # Seguindo os links das habilidades para extrair mais informações\n",
        "        for ability_link in abilities:\n",
        "            yield response.follow(ability_link,\n",
        "                                  self.parse_ability,\n",
        "                                  meta={'pokemon_data': pokemon_data})\n",
        "\n",
        "    def parse_ability(self, response):\n",
        "        ability_name = response.css('#main > h1::text').get()\n",
        "        pokemon_data = response.meta['pokemon_data']\n",
        "        # Adicionando a habilidade ao Pokémon\n",
        "        if 'abilities_details' not in pokemon_data:\n",
        "            pokemon_data['abilities_details'] = []\n",
        "        pokemon_data['abilities_details'].append(\n",
        "            {'ability_name': ability_name})\n",
        "        # Retornando os dados completos do Pokémon\n",
        "        yield pokemon_data\n"
      ]
    }
  ]
}